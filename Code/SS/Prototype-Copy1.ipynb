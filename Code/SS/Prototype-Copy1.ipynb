{
 "cells": [
  {
   "cell_type": "code",
   "execution_count": 1,
   "metadata": {},
   "outputs": [],
   "source": [
    "import pandas as pd\n",
    "import random\n",
    "import pickle"
   ]
  },
  {
   "cell_type": "code",
   "execution_count": 3,
   "metadata": {},
   "outputs": [],
   "source": [
    "Billboard = pd.read_csv('../data/Billboard')"
   ]
  },
  {
   "cell_type": "code",
   "execution_count": 4,
   "metadata": {},
   "outputs": [
    {
     "data": {
      "text/html": [
       "<div>\n",
       "<style scoped>\n",
       "    .dataframe tbody tr th:only-of-type {\n",
       "        vertical-align: middle;\n",
       "    }\n",
       "\n",
       "    .dataframe tbody tr th {\n",
       "        vertical-align: top;\n",
       "    }\n",
       "\n",
       "    .dataframe thead th {\n",
       "        text-align: right;\n",
       "    }\n",
       "</style>\n",
       "<table border=\"1\" class=\"dataframe\">\n",
       "  <thead>\n",
       "    <tr style=\"text-align: right;\">\n",
       "      <th></th>\n",
       "      <th>Unnamed: 0</th>\n",
       "      <th>rank</th>\n",
       "      <th>songs</th>\n",
       "      <th>artist</th>\n",
       "    </tr>\n",
       "  </thead>\n",
       "  <tbody>\n",
       "    <tr>\n",
       "      <th>0</th>\n",
       "      <td>0</td>\n",
       "      <td>1</td>\n",
       "      <td>MOOD</td>\n",
       "      <td>24kGoldn Featuring iann dior</td>\n",
       "    </tr>\n",
       "    <tr>\n",
       "      <th>1</th>\n",
       "      <td>1</td>\n",
       "      <td>2</td>\n",
       "      <td>WAP</td>\n",
       "      <td>Cardi B Featuring Megan Thee Stallion</td>\n",
       "    </tr>\n",
       "    <tr>\n",
       "      <th>2</th>\n",
       "      <td>2</td>\n",
       "      <td>3</td>\n",
       "      <td>LAUGH NOW CRY LATER</td>\n",
       "      <td>Drake Featuring Lil Durk</td>\n",
       "    </tr>\n",
       "    <tr>\n",
       "      <th>3</th>\n",
       "      <td>3</td>\n",
       "      <td>4</td>\n",
       "      <td>BLINDING LIGHTS</td>\n",
       "      <td>The Weeknd</td>\n",
       "    </tr>\n",
       "    <tr>\n",
       "      <th>4</th>\n",
       "      <td>4</td>\n",
       "      <td>5</td>\n",
       "      <td>SAVAGE LOVE (LAXED - SIREN BEAT)</td>\n",
       "      <td>Jawsh 685 x Jason Derulo</td>\n",
       "    </tr>\n",
       "  </tbody>\n",
       "</table>\n",
       "</div>"
      ],
      "text/plain": [
       "   Unnamed: 0  rank                             songs  \\\n",
       "0           0     1                              MOOD   \n",
       "1           1     2                               WAP   \n",
       "2           2     3               LAUGH NOW CRY LATER   \n",
       "3           3     4                   BLINDING LIGHTS   \n",
       "4           4     5  SAVAGE LOVE (LAXED - SIREN BEAT)   \n",
       "\n",
       "                                  artist  \n",
       "0           24kGoldn Featuring iann dior  \n",
       "1  Cardi B Featuring Megan Thee Stallion  \n",
       "2               Drake Featuring Lil Durk  \n",
       "3                             The Weeknd  \n",
       "4               Jawsh 685 x Jason Derulo  "
      ]
     },
     "execution_count": 4,
     "metadata": {},
     "output_type": "execute_result"
    }
   ],
   "source": [
    "Billboard.head()"
   ]
  },
  {
   "cell_type": "code",
   "execution_count": null,
   "metadata": {},
   "outputs": [],
   "source": []
  },
  {
   "cell_type": "code",
   "execution_count": 5,
   "metadata": {},
   "outputs": [
    {
     "data": {
      "text/plain": [
       "0                                 MOOD\n",
       "1                                  WAP\n",
       "2                  LAUGH NOW CRY LATER\n",
       "3                      BLINDING LIGHTS\n",
       "4     SAVAGE LOVE (LAXED - SIREN BEAT)\n",
       "                    ...               \n",
       "95                            CARAMELO\n",
       "96                              PARDON\n",
       "97                        ONE TOO MANY\n",
       "98                   DOLLAZ ON MY HEAD\n",
       "99                     CHAMPAGNE NIGHT\n",
       "Name: songs, Length: 100, dtype: object"
      ]
     },
     "execution_count": 5,
     "metadata": {},
     "output_type": "execute_result"
    }
   ],
   "source": [
    "Billboard['songs']"
   ]
  },
  {
   "cell_type": "code",
   "execution_count": 6,
   "metadata": {},
   "outputs": [
    {
     "data": {
      "text/plain": [
       "0    24kGoldn Featuring iann dior\n",
       "Name: artist, dtype: object"
      ]
     },
     "execution_count": 6,
     "metadata": {},
     "output_type": "execute_result"
    }
   ],
   "source": [
    "Billboard[Billboard['songs'] == 'MOOD']['artist']"
   ]
  },
  {
   "cell_type": "code",
   "execution_count": 24,
   "metadata": {},
   "outputs": [],
   "source": [
    "def song_choice(df):\n",
    "    \n",
    "    while True:\n",
    "\n",
    "        user_song = str(input('Please enter the name of a song: ')).upper()\n",
    "\n",
    "        if user_song in list(df.songs):\n",
    "            print('\\n*Your song is trending righ now* \\n')\n",
    "            print('Take a look to this other songs:')\n",
    "\n",
    "            song_recommendation = random.choice(list(df.songs))\n",
    "            print(song_recommendation)\n",
    "            print('\\nThis song belongs to:\\n')\n",
    "            \n",
    "            artist = df[df['songs'] == song_recommendation]['artist']\n",
    "            print(str([i.title() for i in artist])[2:-2])\n",
    "            \n",
    "            user_answer(df.songs)\n",
    "            \n",
    "            break\n",
    "            \n",
    "        elif user_song in list(spotify_final.track_name):\n",
    "            print('\\nThis is not a hot song but we found this song in spotify!')\n",
    "            print('Regarding your musical preference we can recommend you this songs!\\n')\n",
    "            \n",
    "            spotify_songs(user_song)\n",
    "            \n",
    "            break\n",
    "            \n",
    "        else:\n",
    "            print('\\nSorry, we can not find this song!\\n')\n",
    "            print('Please, type a new song :)!')"
   ]
  },
  {
   "cell_type": "markdown",
   "metadata": {},
   "source": [
    "#### User answer"
   ]
  },
  {
   "cell_type": "code",
   "execution_count": 25,
   "metadata": {},
   "outputs": [],
   "source": [
    "def user_answer(df):\n",
    "    user_answer = str(input('\\nDid you like the song we just recommended?: ')).upper()\n",
    "    \n",
    "    if user_answer == 'NO':\n",
    "        print('\\nNot a problem, we can suggest something else for you!\\n')\n",
    "        \n",
    "        for song in new_list_recommendation(df):\n",
    "            print(song)\n",
    "                     \n",
    "    else:\n",
    "        print('\\nCool, enjoy it\\n')\n",
    "        print('We wish you have more options to listen!!\\n')\n",
    "        print('These are our recommendations for you: ')\n",
    "        for song in new_list_recommendation(df):\n",
    "            print(song)\n",
    "    "
   ]
  },
  {
   "cell_type": "code",
   "execution_count": 24,
   "metadata": {},
   "outputs": [
    {
     "name": "stdout",
     "output_type": "stream",
     "text": [
      "\n",
      "Did you like the song we just recommended?: MOOD\n",
      "\n",
      "Cool, enjoy it\n",
      "\n",
      "We wish you have more options to listen!!\n",
      "\n",
      "These are our recommendations for you: \n",
      "How many songs do you want? 5\n"
     ]
    },
    {
     "ename": "ValueError",
     "evalue": "Sample larger than population or is negative",
     "output_type": "error",
     "traceback": [
      "\u001b[1;31m---------------------------------------------------------------------------\u001b[0m",
      "\u001b[1;31mValueError\u001b[0m                                Traceback (most recent call last)",
      "\u001b[1;32m<ipython-input-24-5c2bee3c0d1e>\u001b[0m in \u001b[0;36m<module>\u001b[1;34m\u001b[0m\n\u001b[1;32m----> 1\u001b[1;33m \u001b[0muser_answer\u001b[0m\u001b[1;33m(\u001b[0m\u001b[0mBillboard\u001b[0m\u001b[1;33m)\u001b[0m\u001b[1;33m\u001b[0m\u001b[1;33m\u001b[0m\u001b[0m\n\u001b[0m",
      "\u001b[1;32m<ipython-input-23-ce1221f236bb>\u001b[0m in \u001b[0;36muser_answer\u001b[1;34m(df)\u001b[0m\n\u001b[0;32m     12\u001b[0m         \u001b[0mprint\u001b[0m\u001b[1;33m(\u001b[0m\u001b[1;34m'We wish you have more options to listen!!\\n'\u001b[0m\u001b[1;33m)\u001b[0m\u001b[1;33m\u001b[0m\u001b[1;33m\u001b[0m\u001b[0m\n\u001b[0;32m     13\u001b[0m         \u001b[0mprint\u001b[0m\u001b[1;33m(\u001b[0m\u001b[1;34m'These are our recommendations for you: '\u001b[0m\u001b[1;33m)\u001b[0m\u001b[1;33m\u001b[0m\u001b[1;33m\u001b[0m\u001b[0m\n\u001b[1;32m---> 14\u001b[1;33m         \u001b[1;32mfor\u001b[0m \u001b[0msong\u001b[0m \u001b[1;32min\u001b[0m \u001b[0mnew_list_recommendation\u001b[0m\u001b[1;33m(\u001b[0m\u001b[0mdf\u001b[0m\u001b[1;33m)\u001b[0m\u001b[1;33m:\u001b[0m\u001b[1;33m\u001b[0m\u001b[1;33m\u001b[0m\u001b[0m\n\u001b[0m\u001b[0;32m     15\u001b[0m             \u001b[0mprint\u001b[0m\u001b[1;33m(\u001b[0m\u001b[0msong\u001b[0m\u001b[1;33m)\u001b[0m\u001b[1;33m\u001b[0m\u001b[1;33m\u001b[0m\u001b[0m\n\u001b[0;32m     16\u001b[0m \u001b[1;33m\u001b[0m\u001b[0m\n",
      "\u001b[1;32m<ipython-input-8-522812d94bf7>\u001b[0m in \u001b[0;36mnew_list_recommendation\u001b[1;34m(df)\u001b[0m\n\u001b[0;32m      1\u001b[0m \u001b[1;32mdef\u001b[0m \u001b[0mnew_list_recommendation\u001b[0m\u001b[1;33m(\u001b[0m\u001b[0mdf\u001b[0m\u001b[1;33m)\u001b[0m\u001b[1;33m:\u001b[0m\u001b[1;33m\u001b[0m\u001b[1;33m\u001b[0m\u001b[0m\n\u001b[0;32m      2\u001b[0m     \u001b[0mk\u001b[0m \u001b[1;33m=\u001b[0m \u001b[0mint\u001b[0m\u001b[1;33m(\u001b[0m\u001b[0minput\u001b[0m\u001b[1;33m(\u001b[0m\u001b[1;34m'How many songs do you want? '\u001b[0m\u001b[1;33m)\u001b[0m\u001b[1;33m)\u001b[0m\u001b[1;33m\u001b[0m\u001b[1;33m\u001b[0m\u001b[0m\n\u001b[1;32m----> 3\u001b[1;33m     \u001b[0mlist_of_songs\u001b[0m \u001b[1;33m=\u001b[0m \u001b[0mrandom\u001b[0m\u001b[1;33m.\u001b[0m\u001b[0msample\u001b[0m\u001b[1;33m(\u001b[0m\u001b[0mlist\u001b[0m\u001b[1;33m(\u001b[0m\u001b[0mdf\u001b[0m\u001b[1;33m)\u001b[0m\u001b[1;33m,\u001b[0m\u001b[0mk\u001b[0m\u001b[1;33m)\u001b[0m\u001b[1;33m\u001b[0m\u001b[1;33m\u001b[0m\u001b[0m\n\u001b[0m\u001b[0;32m      4\u001b[0m     \u001b[0mprint\u001b[0m\u001b[1;33m(\u001b[0m\u001b[1;34m'\\nThis is your new list of songs:\\n'\u001b[0m\u001b[1;33m)\u001b[0m\u001b[1;33m\u001b[0m\u001b[1;33m\u001b[0m\u001b[0m\n\u001b[0;32m      5\u001b[0m     \u001b[1;32mreturn\u001b[0m \u001b[0mlist_of_songs\u001b[0m\u001b[1;33m\u001b[0m\u001b[1;33m\u001b[0m\u001b[0m\n",
      "\u001b[1;32m~\\anaconda3\\lib\\random.py\u001b[0m in \u001b[0;36msample\u001b[1;34m(self, population, k)\u001b[0m\n\u001b[0;32m    319\u001b[0m         \u001b[0mn\u001b[0m \u001b[1;33m=\u001b[0m \u001b[0mlen\u001b[0m\u001b[1;33m(\u001b[0m\u001b[0mpopulation\u001b[0m\u001b[1;33m)\u001b[0m\u001b[1;33m\u001b[0m\u001b[1;33m\u001b[0m\u001b[0m\n\u001b[0;32m    320\u001b[0m         \u001b[1;32mif\u001b[0m \u001b[1;32mnot\u001b[0m \u001b[1;36m0\u001b[0m \u001b[1;33m<=\u001b[0m \u001b[0mk\u001b[0m \u001b[1;33m<=\u001b[0m \u001b[0mn\u001b[0m\u001b[1;33m:\u001b[0m\u001b[1;33m\u001b[0m\u001b[1;33m\u001b[0m\u001b[0m\n\u001b[1;32m--> 321\u001b[1;33m             \u001b[1;32mraise\u001b[0m \u001b[0mValueError\u001b[0m\u001b[1;33m(\u001b[0m\u001b[1;34m\"Sample larger than population or is negative\"\u001b[0m\u001b[1;33m)\u001b[0m\u001b[1;33m\u001b[0m\u001b[1;33m\u001b[0m\u001b[0m\n\u001b[0m\u001b[0;32m    322\u001b[0m         \u001b[0mresult\u001b[0m \u001b[1;33m=\u001b[0m \u001b[1;33m[\u001b[0m\u001b[1;32mNone\u001b[0m\u001b[1;33m]\u001b[0m \u001b[1;33m*\u001b[0m \u001b[0mk\u001b[0m\u001b[1;33m\u001b[0m\u001b[1;33m\u001b[0m\u001b[0m\n\u001b[0;32m    323\u001b[0m         \u001b[0msetsize\u001b[0m \u001b[1;33m=\u001b[0m \u001b[1;36m21\u001b[0m        \u001b[1;31m# size of a small set minus size of an empty list\u001b[0m\u001b[1;33m\u001b[0m\u001b[1;33m\u001b[0m\u001b[0m\n",
      "\u001b[1;31mValueError\u001b[0m: Sample larger than population or is negative"
     ]
    }
   ],
   "source": [
    "user_answer(Billboard)"
   ]
  },
  {
   "cell_type": "markdown",
   "metadata": {},
   "source": [
    "#### New list recommendation"
   ]
  },
  {
   "cell_type": "code",
   "execution_count": 9,
   "metadata": {},
   "outputs": [],
   "source": [
    "def new_list_recommendation(df):\n",
    "    k = int(input('How many songs do you want? '))\n",
    "    list_of_songs = random.sample(list(df),k)\n",
    "    print('\\nThis is your new list of songs:\\n')\n",
    "    return list_of_songs"
   ]
  },
  {
   "cell_type": "code",
   "execution_count": 26,
   "metadata": {},
   "outputs": [
    {
     "name": "stdout",
     "output_type": "stream",
     "text": [
      "How many songs do you want? 1\n",
      "\n",
      "This is your new list of songs:\n",
      "\n"
     ]
    },
    {
     "data": {
      "text/plain": [
       "['artist']"
      ]
     },
     "execution_count": 26,
     "metadata": {},
     "output_type": "execute_result"
    }
   ],
   "source": [
    "new_list_recommendation(Billboard)"
   ]
  },
  {
   "cell_type": "code",
   "execution_count": null,
   "metadata": {},
   "outputs": [],
   "source": []
  },
  {
   "cell_type": "code",
   "execution_count": null,
   "metadata": {},
   "outputs": [],
   "source": []
  },
  {
   "cell_type": "markdown",
   "metadata": {},
   "source": [
    "#### Project 03"
   ]
  },
  {
   "cell_type": "code",
   "execution_count": 26,
   "metadata": {},
   "outputs": [
    {
     "name": "stdout",
     "output_type": "stream",
     "text": [
      "Please enter the name of a song: Nobody else\n",
      "\n",
      "This is not a hot song but we found this song in spotify!\n",
      "Regarding your musical preference we can recommend you this songs!\n",
      "\n",
      "How many songs do you want? 3\n",
      "\n",
      "There you have a list of songs based on your preferences!\n",
      "\n",
      "EVERYBODY’S GOTTA LIVE\n",
      "I GET AROUND\n",
      "IS IT REALLY ME YOU'RE MISSING\n"
     ]
    }
   ],
   "source": [
    "song_choice(Billboard)"
   ]
  },
  {
   "cell_type": "code",
   "execution_count": null,
   "metadata": {},
   "outputs": [],
   "source": []
  },
  {
   "cell_type": "code",
   "execution_count": null,
   "metadata": {},
   "outputs": [],
   "source": []
  },
  {
   "cell_type": "code",
   "execution_count": 9,
   "metadata": {},
   "outputs": [],
   "source": [
    "kmeans = pickle.load(open(\"kmeans\", \"rb\"))\n",
    "scaler = pickle.load(open(\"scaler\", \"rb\"))"
   ]
  },
  {
   "cell_type": "code",
   "execution_count": 10,
   "metadata": {},
   "outputs": [
    {
     "data": {
      "text/plain": [
       "array([[  9.86566166,   7.55276673,   2.43763492,  67.58285523,\n",
       "        402.80412446,  17.18894833,  14.58971196,   2.12046921]])"
      ]
     },
     "execution_count": 10,
     "metadata": {},
     "output_type": "execute_result"
    }
   ],
   "source": [
    "scaler.transform([[2,2,1,34,42,3,2,1]])"
   ]
  },
  {
   "cell_type": "code",
   "execution_count": 11,
   "metadata": {},
   "outputs": [
    {
     "data": {
      "text/plain": [
       "array([0])"
      ]
     },
     "execution_count": 11,
     "metadata": {},
     "output_type": "execute_result"
    }
   ],
   "source": [
    "kmeans.predict(scaler.transform([[2,2,1,34,42,3,2,1]]))"
   ]
  },
  {
   "cell_type": "code",
   "execution_count": null,
   "metadata": {},
   "outputs": [],
   "source": []
  },
  {
   "cell_type": "code",
   "execution_count": 11,
   "metadata": {},
   "outputs": [],
   "source": [
    "spotify_final = pd.read_csv('../data/spotifyclustered')"
   ]
  },
  {
   "cell_type": "code",
   "execution_count": 12,
   "metadata": {},
   "outputs": [
    {
     "data": {
      "text/html": [
       "<div>\n",
       "<style scoped>\n",
       "    .dataframe tbody tr th:only-of-type {\n",
       "        vertical-align: middle;\n",
       "    }\n",
       "\n",
       "    .dataframe tbody tr th {\n",
       "        vertical-align: top;\n",
       "    }\n",
       "\n",
       "    .dataframe thead th {\n",
       "        text-align: right;\n",
       "    }\n",
       "</style>\n",
       "<table border=\"1\" class=\"dataframe\">\n",
       "  <thead>\n",
       "    <tr style=\"text-align: right;\">\n",
       "      <th></th>\n",
       "      <th>Unnamed: 0</th>\n",
       "      <th>Unnamed: 0.1</th>\n",
       "      <th>artist</th>\n",
       "      <th>album</th>\n",
       "      <th>track_name</th>\n",
       "      <th>track_id</th>\n",
       "      <th>danceability</th>\n",
       "      <th>energy</th>\n",
       "      <th>key</th>\n",
       "      <th>loudness</th>\n",
       "      <th>mode</th>\n",
       "      <th>speechiness</th>\n",
       "      <th>instrumentalness</th>\n",
       "      <th>liveness</th>\n",
       "      <th>valence</th>\n",
       "      <th>tempo</th>\n",
       "      <th>duration_ms</th>\n",
       "      <th>time_signature</th>\n",
       "      <th>clusters</th>\n",
       "    </tr>\n",
       "  </thead>\n",
       "  <tbody>\n",
       "    <tr>\n",
       "      <th>0</th>\n",
       "      <td>0</td>\n",
       "      <td>0</td>\n",
       "      <td>Ariana Grande</td>\n",
       "      <td>Positions</td>\n",
       "      <td>pov</td>\n",
       "      <td>3UoULw70kMsiVXxW0L3A33</td>\n",
       "      <td>0.487</td>\n",
       "      <td>0.534</td>\n",
       "      <td>0</td>\n",
       "      <td>-5.664</td>\n",
       "      <td>0</td>\n",
       "      <td>0.0555</td>\n",
       "      <td>0.000000</td>\n",
       "      <td>0.1000</td>\n",
       "      <td>0.1730</td>\n",
       "      <td>131.798</td>\n",
       "      <td>201882</td>\n",
       "      <td>4</td>\n",
       "      <td>3</td>\n",
       "    </tr>\n",
       "    <tr>\n",
       "      <th>1</th>\n",
       "      <td>1</td>\n",
       "      <td>1</td>\n",
       "      <td>Dan Talevski</td>\n",
       "      <td>Don't Ever Leave</td>\n",
       "      <td>Don't Ever Leave</td>\n",
       "      <td>6drtmkgMWpehwKX2si4DEl</td>\n",
       "      <td>0.392</td>\n",
       "      <td>0.604</td>\n",
       "      <td>6</td>\n",
       "      <td>-5.965</td>\n",
       "      <td>1</td>\n",
       "      <td>0.0512</td>\n",
       "      <td>0.000004</td>\n",
       "      <td>0.1790</td>\n",
       "      <td>0.4990</td>\n",
       "      <td>88.406</td>\n",
       "      <td>148906</td>\n",
       "      <td>4</td>\n",
       "      <td>6</td>\n",
       "    </tr>\n",
       "    <tr>\n",
       "      <th>2</th>\n",
       "      <td>2</td>\n",
       "      <td>2</td>\n",
       "      <td>LANY</td>\n",
       "      <td>mama's boy</td>\n",
       "      <td>nobody else</td>\n",
       "      <td>7GLBqDKAJLCLIsj2GEDkSw</td>\n",
       "      <td>0.569</td>\n",
       "      <td>0.291</td>\n",
       "      <td>0</td>\n",
       "      <td>-14.509</td>\n",
       "      <td>1</td>\n",
       "      <td>0.0430</td>\n",
       "      <td>0.000000</td>\n",
       "      <td>0.1370</td>\n",
       "      <td>0.3130</td>\n",
       "      <td>151.659</td>\n",
       "      <td>197480</td>\n",
       "      <td>4</td>\n",
       "      <td>3</td>\n",
       "    </tr>\n",
       "    <tr>\n",
       "      <th>3</th>\n",
       "      <td>3</td>\n",
       "      <td>3</td>\n",
       "      <td>Aloe Blacc</td>\n",
       "      <td>All Love Everything</td>\n",
       "      <td>All Love Everything</td>\n",
       "      <td>7g5bq2JSKV0eNKTFluoQNt</td>\n",
       "      <td>0.726</td>\n",
       "      <td>0.562</td>\n",
       "      <td>4</td>\n",
       "      <td>-8.226</td>\n",
       "      <td>1</td>\n",
       "      <td>0.0817</td>\n",
       "      <td>0.000000</td>\n",
       "      <td>0.0774</td>\n",
       "      <td>0.7570</td>\n",
       "      <td>160.157</td>\n",
       "      <td>147947</td>\n",
       "      <td>4</td>\n",
       "      <td>1</td>\n",
       "    </tr>\n",
       "    <tr>\n",
       "      <th>4</th>\n",
       "      <td>4</td>\n",
       "      <td>4</td>\n",
       "      <td>ZAYN</td>\n",
       "      <td>Better</td>\n",
       "      <td>Better</td>\n",
       "      <td>1dLXLETYiZohIZWnse4ypG</td>\n",
       "      <td>0.637</td>\n",
       "      <td>0.418</td>\n",
       "      <td>2</td>\n",
       "      <td>-7.137</td>\n",
       "      <td>1</td>\n",
       "      <td>0.3010</td>\n",
       "      <td>0.000000</td>\n",
       "      <td>0.1310</td>\n",
       "      <td>0.0807</td>\n",
       "      <td>84.295</td>\n",
       "      <td>174517</td>\n",
       "      <td>4</td>\n",
       "      <td>3</td>\n",
       "    </tr>\n",
       "  </tbody>\n",
       "</table>\n",
       "</div>"
      ],
      "text/plain": [
       "   Unnamed: 0  Unnamed: 0.1         artist                album  \\\n",
       "0           0             0  Ariana Grande            Positions   \n",
       "1           1             1   Dan Talevski     Don't Ever Leave   \n",
       "2           2             2           LANY           mama's boy   \n",
       "3           3             3     Aloe Blacc  All Love Everything   \n",
       "4           4             4           ZAYN               Better   \n",
       "\n",
       "            track_name                track_id  danceability  energy  key  \\\n",
       "0                  pov  3UoULw70kMsiVXxW0L3A33         0.487   0.534    0   \n",
       "1     Don't Ever Leave  6drtmkgMWpehwKX2si4DEl         0.392   0.604    6   \n",
       "2          nobody else  7GLBqDKAJLCLIsj2GEDkSw         0.569   0.291    0   \n",
       "3  All Love Everything  7g5bq2JSKV0eNKTFluoQNt         0.726   0.562    4   \n",
       "4               Better  1dLXLETYiZohIZWnse4ypG         0.637   0.418    2   \n",
       "\n",
       "   loudness  mode  speechiness  instrumentalness  liveness  valence    tempo  \\\n",
       "0    -5.664     0       0.0555          0.000000    0.1000   0.1730  131.798   \n",
       "1    -5.965     1       0.0512          0.000004    0.1790   0.4990   88.406   \n",
       "2   -14.509     1       0.0430          0.000000    0.1370   0.3130  151.659   \n",
       "3    -8.226     1       0.0817          0.000000    0.0774   0.7570  160.157   \n",
       "4    -7.137     1       0.3010          0.000000    0.1310   0.0807   84.295   \n",
       "\n",
       "   duration_ms  time_signature  clusters  \n",
       "0       201882               4         3  \n",
       "1       148906               4         6  \n",
       "2       197480               4         3  \n",
       "3       147947               4         1  \n",
       "4       174517               4         3  "
      ]
     },
     "execution_count": 12,
     "metadata": {},
     "output_type": "execute_result"
    }
   ],
   "source": [
    "spotify_final.head()"
   ]
  },
  {
   "cell_type": "code",
   "execution_count": 13,
   "metadata": {},
   "outputs": [],
   "source": [
    "spotify_final['track_name'] = spotify_final['track_name'].str.upper()"
   ]
  },
  {
   "cell_type": "code",
   "execution_count": 15,
   "metadata": {},
   "outputs": [
    {
     "data": {
      "text/html": [
       "<div>\n",
       "<style scoped>\n",
       "    .dataframe tbody tr th:only-of-type {\n",
       "        vertical-align: middle;\n",
       "    }\n",
       "\n",
       "    .dataframe tbody tr th {\n",
       "        vertical-align: top;\n",
       "    }\n",
       "\n",
       "    .dataframe thead th {\n",
       "        text-align: right;\n",
       "    }\n",
       "</style>\n",
       "<table border=\"1\" class=\"dataframe\">\n",
       "  <thead>\n",
       "    <tr style=\"text-align: right;\">\n",
       "      <th></th>\n",
       "      <th>Unnamed: 0</th>\n",
       "      <th>Unnamed: 0.1</th>\n",
       "      <th>artist</th>\n",
       "      <th>album</th>\n",
       "      <th>track_name</th>\n",
       "      <th>track_id</th>\n",
       "      <th>danceability</th>\n",
       "      <th>energy</th>\n",
       "      <th>key</th>\n",
       "      <th>loudness</th>\n",
       "      <th>mode</th>\n",
       "      <th>speechiness</th>\n",
       "      <th>instrumentalness</th>\n",
       "      <th>liveness</th>\n",
       "      <th>valence</th>\n",
       "      <th>tempo</th>\n",
       "      <th>duration_ms</th>\n",
       "      <th>time_signature</th>\n",
       "      <th>clusters</th>\n",
       "    </tr>\n",
       "  </thead>\n",
       "  <tbody>\n",
       "    <tr>\n",
       "      <th>0</th>\n",
       "      <td>0</td>\n",
       "      <td>0</td>\n",
       "      <td>Ariana Grande</td>\n",
       "      <td>Positions</td>\n",
       "      <td>POV</td>\n",
       "      <td>3UoULw70kMsiVXxW0L3A33</td>\n",
       "      <td>0.487</td>\n",
       "      <td>0.534</td>\n",
       "      <td>0</td>\n",
       "      <td>-5.664</td>\n",
       "      <td>0</td>\n",
       "      <td>0.0555</td>\n",
       "      <td>0.000000</td>\n",
       "      <td>0.1000</td>\n",
       "      <td>0.1730</td>\n",
       "      <td>131.798</td>\n",
       "      <td>201882</td>\n",
       "      <td>4</td>\n",
       "      <td>3</td>\n",
       "    </tr>\n",
       "    <tr>\n",
       "      <th>1</th>\n",
       "      <td>1</td>\n",
       "      <td>1</td>\n",
       "      <td>Dan Talevski</td>\n",
       "      <td>Don't Ever Leave</td>\n",
       "      <td>DON'T EVER LEAVE</td>\n",
       "      <td>6drtmkgMWpehwKX2si4DEl</td>\n",
       "      <td>0.392</td>\n",
       "      <td>0.604</td>\n",
       "      <td>6</td>\n",
       "      <td>-5.965</td>\n",
       "      <td>1</td>\n",
       "      <td>0.0512</td>\n",
       "      <td>0.000004</td>\n",
       "      <td>0.1790</td>\n",
       "      <td>0.4990</td>\n",
       "      <td>88.406</td>\n",
       "      <td>148906</td>\n",
       "      <td>4</td>\n",
       "      <td>6</td>\n",
       "    </tr>\n",
       "    <tr>\n",
       "      <th>2</th>\n",
       "      <td>2</td>\n",
       "      <td>2</td>\n",
       "      <td>LANY</td>\n",
       "      <td>mama's boy</td>\n",
       "      <td>NOBODY ELSE</td>\n",
       "      <td>7GLBqDKAJLCLIsj2GEDkSw</td>\n",
       "      <td>0.569</td>\n",
       "      <td>0.291</td>\n",
       "      <td>0</td>\n",
       "      <td>-14.509</td>\n",
       "      <td>1</td>\n",
       "      <td>0.0430</td>\n",
       "      <td>0.000000</td>\n",
       "      <td>0.1370</td>\n",
       "      <td>0.3130</td>\n",
       "      <td>151.659</td>\n",
       "      <td>197480</td>\n",
       "      <td>4</td>\n",
       "      <td>3</td>\n",
       "    </tr>\n",
       "    <tr>\n",
       "      <th>3</th>\n",
       "      <td>3</td>\n",
       "      <td>3</td>\n",
       "      <td>Aloe Blacc</td>\n",
       "      <td>All Love Everything</td>\n",
       "      <td>ALL LOVE EVERYTHING</td>\n",
       "      <td>7g5bq2JSKV0eNKTFluoQNt</td>\n",
       "      <td>0.726</td>\n",
       "      <td>0.562</td>\n",
       "      <td>4</td>\n",
       "      <td>-8.226</td>\n",
       "      <td>1</td>\n",
       "      <td>0.0817</td>\n",
       "      <td>0.000000</td>\n",
       "      <td>0.0774</td>\n",
       "      <td>0.7570</td>\n",
       "      <td>160.157</td>\n",
       "      <td>147947</td>\n",
       "      <td>4</td>\n",
       "      <td>1</td>\n",
       "    </tr>\n",
       "    <tr>\n",
       "      <th>4</th>\n",
       "      <td>4</td>\n",
       "      <td>4</td>\n",
       "      <td>ZAYN</td>\n",
       "      <td>Better</td>\n",
       "      <td>BETTER</td>\n",
       "      <td>1dLXLETYiZohIZWnse4ypG</td>\n",
       "      <td>0.637</td>\n",
       "      <td>0.418</td>\n",
       "      <td>2</td>\n",
       "      <td>-7.137</td>\n",
       "      <td>1</td>\n",
       "      <td>0.3010</td>\n",
       "      <td>0.000000</td>\n",
       "      <td>0.1310</td>\n",
       "      <td>0.0807</td>\n",
       "      <td>84.295</td>\n",
       "      <td>174517</td>\n",
       "      <td>4</td>\n",
       "      <td>3</td>\n",
       "    </tr>\n",
       "  </tbody>\n",
       "</table>\n",
       "</div>"
      ],
      "text/plain": [
       "   Unnamed: 0  Unnamed: 0.1         artist                album  \\\n",
       "0           0             0  Ariana Grande            Positions   \n",
       "1           1             1   Dan Talevski     Don't Ever Leave   \n",
       "2           2             2           LANY           mama's boy   \n",
       "3           3             3     Aloe Blacc  All Love Everything   \n",
       "4           4             4           ZAYN               Better   \n",
       "\n",
       "            track_name                track_id  danceability  energy  key  \\\n",
       "0                  POV  3UoULw70kMsiVXxW0L3A33         0.487   0.534    0   \n",
       "1     DON'T EVER LEAVE  6drtmkgMWpehwKX2si4DEl         0.392   0.604    6   \n",
       "2          NOBODY ELSE  7GLBqDKAJLCLIsj2GEDkSw         0.569   0.291    0   \n",
       "3  ALL LOVE EVERYTHING  7g5bq2JSKV0eNKTFluoQNt         0.726   0.562    4   \n",
       "4               BETTER  1dLXLETYiZohIZWnse4ypG         0.637   0.418    2   \n",
       "\n",
       "   loudness  mode  speechiness  instrumentalness  liveness  valence    tempo  \\\n",
       "0    -5.664     0       0.0555          0.000000    0.1000   0.1730  131.798   \n",
       "1    -5.965     1       0.0512          0.000004    0.1790   0.4990   88.406   \n",
       "2   -14.509     1       0.0430          0.000000    0.1370   0.3130  151.659   \n",
       "3    -8.226     1       0.0817          0.000000    0.0774   0.7570  160.157   \n",
       "4    -7.137     1       0.3010          0.000000    0.1310   0.0807   84.295   \n",
       "\n",
       "   duration_ms  time_signature  clusters  \n",
       "0       201882               4         3  \n",
       "1       148906               4         6  \n",
       "2       197480               4         3  \n",
       "3       147947               4         1  \n",
       "4       174517               4         3  "
      ]
     },
     "execution_count": 15,
     "metadata": {},
     "output_type": "execute_result"
    }
   ],
   "source": [
    "spotify_final.head()"
   ]
  },
  {
   "cell_type": "code",
   "execution_count": 14,
   "metadata": {},
   "outputs": [],
   "source": [
    "spotify_final.drop(['Unnamed: 0','Unnamed: 0.1'], axis=1, inplace=True)"
   ]
  },
  {
   "cell_type": "code",
   "execution_count": 22,
   "metadata": {},
   "outputs": [],
   "source": [
    "def spotify_songs(user_song,artist):\n",
    "    \n",
    "    cluster = spotify_final[spotify_final['track_name'] == user_song]['clusters']\n",
    "    match_song = spotify_final[spotify_final['clusters'] == int(cluster)]['track_name']\n",
    "    k = int(input('How many songs do you want? '))\n",
    "    print('\\nThere you have a list of songs based on your preferences!\\n')\n",
    "    list_of_songs = random.sample(list(match_song),k)\n",
    "    for song in list_of_songs:\n",
    "        print(song)"
   ]
  },
  {
   "cell_type": "code",
   "execution_count": 16,
   "metadata": {},
   "outputs": [
    {
     "data": {
      "text/plain": [
       "0    3\n",
       "Name: clusters, dtype: int64"
      ]
     },
     "execution_count": 16,
     "metadata": {},
     "output_type": "execute_result"
    }
   ],
   "source": [
    "spotify_final[spotify_final['track_name'] == 'POV']['clusters']"
   ]
  },
  {
   "cell_type": "code",
   "execution_count": 17,
   "metadata": {},
   "outputs": [
    {
     "data": {
      "text/plain": [
       "0                               POV\n",
       "2                       NOBODY ELSE\n",
       "4                            BETTER\n",
       "5                        SIX THIRTY\n",
       "12      I SHOULD PROBABLY GO TO BED\n",
       "                   ...             \n",
       "1024                 LOOKING FOR ME\n",
       "1041                         NO LIE\n",
       "1047                        SUBLIME\n",
       "1076                     2 INFINITY\n",
       "1079           CREEP - MINT SINGLES\n",
       "Name: track_name, Length: 164, dtype: object"
      ]
     },
     "execution_count": 17,
     "metadata": {},
     "output_type": "execute_result"
    }
   ],
   "source": [
    "spotify_final[spotify_final['clusters'] == 3]['track_name']"
   ]
  },
  {
   "cell_type": "code",
   "execution_count": 23,
   "metadata": {},
   "outputs": [
    {
     "name": "stdout",
     "output_type": "stream",
     "text": [
      "How many songs do you want? 5\n",
      "\n",
      "There you have a list of songs based on your preferences!\n",
      "\n",
      "ROCKSTAR\n",
      "NO SLEEP (FEAT. BONN)\n",
      "SINGLE LADIES (PUT A RING ON IT)\n",
      "DROWN (FEAT. CLINTON KANE)\n",
      "SHUT UP AND DANCE\n"
     ]
    }
   ],
   "source": [
    "spotify_songs(\"DON'T EVER LEAVE\")"
   ]
  },
  {
   "cell_type": "code",
   "execution_count": 20,
   "metadata": {},
   "outputs": [],
   "source": [
    "ONLY_3 = spotify_final[spotify_final['clusters'] == 6]"
   ]
  },
  {
   "cell_type": "code",
   "execution_count": 21,
   "metadata": {},
   "outputs": [
    {
     "data": {
      "text/html": [
       "<div>\n",
       "<style scoped>\n",
       "    .dataframe tbody tr th:only-of-type {\n",
       "        vertical-align: middle;\n",
       "    }\n",
       "\n",
       "    .dataframe tbody tr th {\n",
       "        vertical-align: top;\n",
       "    }\n",
       "\n",
       "    .dataframe thead th {\n",
       "        text-align: right;\n",
       "    }\n",
       "</style>\n",
       "<table border=\"1\" class=\"dataframe\">\n",
       "  <thead>\n",
       "    <tr style=\"text-align: right;\">\n",
       "      <th></th>\n",
       "      <th>Unnamed: 0</th>\n",
       "      <th>Unnamed: 0.1</th>\n",
       "      <th>artist</th>\n",
       "      <th>album</th>\n",
       "      <th>track_name</th>\n",
       "      <th>track_id</th>\n",
       "      <th>danceability</th>\n",
       "      <th>energy</th>\n",
       "      <th>key</th>\n",
       "      <th>loudness</th>\n",
       "      <th>mode</th>\n",
       "      <th>speechiness</th>\n",
       "      <th>instrumentalness</th>\n",
       "      <th>liveness</th>\n",
       "      <th>valence</th>\n",
       "      <th>tempo</th>\n",
       "      <th>duration_ms</th>\n",
       "      <th>time_signature</th>\n",
       "      <th>clusters</th>\n",
       "    </tr>\n",
       "  </thead>\n",
       "  <tbody>\n",
       "    <tr>\n",
       "      <th>400</th>\n",
       "      <td>400</td>\n",
       "      <td>36</td>\n",
       "      <td>Roberto Marín Muñoz</td>\n",
       "      <td>I Feel Fire</td>\n",
       "      <td>I FEEL FIRE</td>\n",
       "      <td>27J5lY1SKzMtLCoERYjYih</td>\n",
       "      <td>0.765</td>\n",
       "      <td>0.733</td>\n",
       "      <td>3</td>\n",
       "      <td>-6.697</td>\n",
       "      <td>1</td>\n",
       "      <td>0.0406</td>\n",
       "      <td>0.041</td>\n",
       "      <td>0.116</td>\n",
       "      <td>0.207</td>\n",
       "      <td>120.026</td>\n",
       "      <td>212000</td>\n",
       "      <td>4</td>\n",
       "      <td>6</td>\n",
       "    </tr>\n",
       "  </tbody>\n",
       "</table>\n",
       "</div>"
      ],
      "text/plain": [
       "     Unnamed: 0  Unnamed: 0.1               artist        album   track_name  \\\n",
       "400         400            36  Roberto Marín Muñoz  I Feel Fire  I FEEL FIRE   \n",
       "\n",
       "                   track_id  danceability  energy  key  loudness  mode  \\\n",
       "400  27J5lY1SKzMtLCoERYjYih         0.765   0.733    3    -6.697     1   \n",
       "\n",
       "     speechiness  instrumentalness  liveness  valence    tempo  duration_ms  \\\n",
       "400       0.0406             0.041     0.116    0.207  120.026       212000   \n",
       "\n",
       "     time_signature  clusters  \n",
       "400               4         6  "
      ]
     },
     "execution_count": 21,
     "metadata": {},
     "output_type": "execute_result"
    }
   ],
   "source": [
    "ONLY_3[ONLY_3['track_name'] == 'I FEEL FIRE']"
   ]
  },
  {
   "cell_type": "code",
   "execution_count": null,
   "metadata": {},
   "outputs": [],
   "source": []
  },
  {
   "cell_type": "code",
   "execution_count": null,
   "metadata": {},
   "outputs": [],
   "source": []
  }
 ],
 "metadata": {
  "kernelspec": {
   "display_name": "Python 3",
   "language": "python",
   "name": "python3"
  },
  "language_info": {
   "codemirror_mode": {
    "name": "ipython",
    "version": 3
   },
   "file_extension": ".py",
   "mimetype": "text/x-python",
   "name": "python",
   "nbconvert_exporter": "python",
   "pygments_lexer": "ipython3",
   "version": "3.7.6"
  }
 },
 "nbformat": 4,
 "nbformat_minor": 4
}

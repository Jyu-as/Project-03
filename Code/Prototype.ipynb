{
 "cells": [
  {
   "cell_type": "markdown",
   "metadata": {},
   "source": [
    "#### Import Modules"
   ]
  },
  {
   "cell_type": "code",
   "execution_count": 1,
   "metadata": {},
   "outputs": [],
   "source": [
    "import pandas as pd\n",
    "import random\n",
    "import pickle"
   ]
  },
  {
   "cell_type": "markdown",
   "metadata": {},
   "source": [
    "#### Import Dataframe (Web Scraping Dataframe)"
   ]
  },
  {
   "cell_type": "code",
   "execution_count": 2,
   "metadata": {},
   "outputs": [],
   "source": [
    "Billboard = pd.read_csv('../data/Billboard')"
   ]
  },
  {
   "cell_type": "code",
   "execution_count": 3,
   "metadata": {},
   "outputs": [
    {
     "data": {
      "text/html": [
       "<div>\n",
       "<style scoped>\n",
       "    .dataframe tbody tr th:only-of-type {\n",
       "        vertical-align: middle;\n",
       "    }\n",
       "\n",
       "    .dataframe tbody tr th {\n",
       "        vertical-align: top;\n",
       "    }\n",
       "\n",
       "    .dataframe thead th {\n",
       "        text-align: right;\n",
       "    }\n",
       "</style>\n",
       "<table border=\"1\" class=\"dataframe\">\n",
       "  <thead>\n",
       "    <tr style=\"text-align: right;\">\n",
       "      <th></th>\n",
       "      <th>Unnamed: 0</th>\n",
       "      <th>rank</th>\n",
       "      <th>songs</th>\n",
       "      <th>artist</th>\n",
       "    </tr>\n",
       "  </thead>\n",
       "  <tbody>\n",
       "    <tr>\n",
       "      <th>0</th>\n",
       "      <td>0</td>\n",
       "      <td>1</td>\n",
       "      <td>MOOD</td>\n",
       "      <td>24kGoldn Featuring iann dior</td>\n",
       "    </tr>\n",
       "    <tr>\n",
       "      <th>1</th>\n",
       "      <td>1</td>\n",
       "      <td>2</td>\n",
       "      <td>WAP</td>\n",
       "      <td>Cardi B Featuring Megan Thee Stallion</td>\n",
       "    </tr>\n",
       "    <tr>\n",
       "      <th>2</th>\n",
       "      <td>2</td>\n",
       "      <td>3</td>\n",
       "      <td>LAUGH NOW CRY LATER</td>\n",
       "      <td>Drake Featuring Lil Durk</td>\n",
       "    </tr>\n",
       "    <tr>\n",
       "      <th>3</th>\n",
       "      <td>3</td>\n",
       "      <td>4</td>\n",
       "      <td>BLINDING LIGHTS</td>\n",
       "      <td>The Weeknd</td>\n",
       "    </tr>\n",
       "    <tr>\n",
       "      <th>4</th>\n",
       "      <td>4</td>\n",
       "      <td>5</td>\n",
       "      <td>SAVAGE LOVE (LAXED - SIREN BEAT)</td>\n",
       "      <td>Jawsh 685 x Jason Derulo</td>\n",
       "    </tr>\n",
       "  </tbody>\n",
       "</table>\n",
       "</div>"
      ],
      "text/plain": [
       "   Unnamed: 0  rank                             songs  \\\n",
       "0           0     1                              MOOD   \n",
       "1           1     2                               WAP   \n",
       "2           2     3               LAUGH NOW CRY LATER   \n",
       "3           3     4                   BLINDING LIGHTS   \n",
       "4           4     5  SAVAGE LOVE (LAXED - SIREN BEAT)   \n",
       "\n",
       "                                  artist  \n",
       "0           24kGoldn Featuring iann dior  \n",
       "1  Cardi B Featuring Megan Thee Stallion  \n",
       "2               Drake Featuring Lil Durk  \n",
       "3                             The Weeknd  \n",
       "4               Jawsh 685 x Jason Derulo  "
      ]
     },
     "execution_count": 3,
     "metadata": {},
     "output_type": "execute_result"
    }
   ],
   "source": [
    "Billboard.head()"
   ]
  },
  {
   "cell_type": "markdown",
   "metadata": {},
   "source": [
    "#### Cleaning Dataset"
   ]
  },
  {
   "cell_type": "code",
   "execution_count": 4,
   "metadata": {},
   "outputs": [],
   "source": [
    "Billboard = Billboard.drop(columns='Unnamed: 0')"
   ]
  },
  {
   "cell_type": "code",
   "execution_count": 5,
   "metadata": {},
   "outputs": [
    {
     "data": {
      "text/html": [
       "<div>\n",
       "<style scoped>\n",
       "    .dataframe tbody tr th:only-of-type {\n",
       "        vertical-align: middle;\n",
       "    }\n",
       "\n",
       "    .dataframe tbody tr th {\n",
       "        vertical-align: top;\n",
       "    }\n",
       "\n",
       "    .dataframe thead th {\n",
       "        text-align: right;\n",
       "    }\n",
       "</style>\n",
       "<table border=\"1\" class=\"dataframe\">\n",
       "  <thead>\n",
       "    <tr style=\"text-align: right;\">\n",
       "      <th></th>\n",
       "      <th>rank</th>\n",
       "      <th>songs</th>\n",
       "      <th>artist</th>\n",
       "    </tr>\n",
       "  </thead>\n",
       "  <tbody>\n",
       "    <tr>\n",
       "      <th>0</th>\n",
       "      <td>1</td>\n",
       "      <td>MOOD</td>\n",
       "      <td>24kGoldn Featuring iann dior</td>\n",
       "    </tr>\n",
       "    <tr>\n",
       "      <th>1</th>\n",
       "      <td>2</td>\n",
       "      <td>WAP</td>\n",
       "      <td>Cardi B Featuring Megan Thee Stallion</td>\n",
       "    </tr>\n",
       "    <tr>\n",
       "      <th>2</th>\n",
       "      <td>3</td>\n",
       "      <td>LAUGH NOW CRY LATER</td>\n",
       "      <td>Drake Featuring Lil Durk</td>\n",
       "    </tr>\n",
       "    <tr>\n",
       "      <th>3</th>\n",
       "      <td>4</td>\n",
       "      <td>BLINDING LIGHTS</td>\n",
       "      <td>The Weeknd</td>\n",
       "    </tr>\n",
       "    <tr>\n",
       "      <th>4</th>\n",
       "      <td>5</td>\n",
       "      <td>SAVAGE LOVE (LAXED - SIREN BEAT)</td>\n",
       "      <td>Jawsh 685 x Jason Derulo</td>\n",
       "    </tr>\n",
       "    <tr>\n",
       "      <th>...</th>\n",
       "      <td>...</td>\n",
       "      <td>...</td>\n",
       "      <td>...</td>\n",
       "    </tr>\n",
       "    <tr>\n",
       "      <th>95</th>\n",
       "      <td>96</td>\n",
       "      <td>CARAMELO</td>\n",
       "      <td>Ozuna x Karol G x Myke Towers</td>\n",
       "    </tr>\n",
       "    <tr>\n",
       "      <th>96</th>\n",
       "      <td>97</td>\n",
       "      <td>PARDON</td>\n",
       "      <td>T.I. Featuring Lil Baby</td>\n",
       "    </tr>\n",
       "    <tr>\n",
       "      <th>97</th>\n",
       "      <td>98</td>\n",
       "      <td>ONE TOO MANY</td>\n",
       "      <td>Keith Urban Duet With P!nk</td>\n",
       "    </tr>\n",
       "    <tr>\n",
       "      <th>98</th>\n",
       "      <td>99</td>\n",
       "      <td>DOLLAZ ON MY HEAD</td>\n",
       "      <td>Gunna Featuring Young Thug</td>\n",
       "    </tr>\n",
       "    <tr>\n",
       "      <th>99</th>\n",
       "      <td>100</td>\n",
       "      <td>CHAMPAGNE NIGHT</td>\n",
       "      <td>Lady A</td>\n",
       "    </tr>\n",
       "  </tbody>\n",
       "</table>\n",
       "<p>100 rows × 3 columns</p>\n",
       "</div>"
      ],
      "text/plain": [
       "    rank                             songs  \\\n",
       "0      1                              MOOD   \n",
       "1      2                               WAP   \n",
       "2      3               LAUGH NOW CRY LATER   \n",
       "3      4                   BLINDING LIGHTS   \n",
       "4      5  SAVAGE LOVE (LAXED - SIREN BEAT)   \n",
       "..   ...                               ...   \n",
       "95    96                          CARAMELO   \n",
       "96    97                            PARDON   \n",
       "97    98                      ONE TOO MANY   \n",
       "98    99                 DOLLAZ ON MY HEAD   \n",
       "99   100                   CHAMPAGNE NIGHT   \n",
       "\n",
       "                                   artist  \n",
       "0            24kGoldn Featuring iann dior  \n",
       "1   Cardi B Featuring Megan Thee Stallion  \n",
       "2                Drake Featuring Lil Durk  \n",
       "3                              The Weeknd  \n",
       "4                Jawsh 685 x Jason Derulo  \n",
       "..                                    ...  \n",
       "95          Ozuna x Karol G x Myke Towers  \n",
       "96                T.I. Featuring Lil Baby  \n",
       "97             Keith Urban Duet With P!nk  \n",
       "98             Gunna Featuring Young Thug  \n",
       "99                                 Lady A  \n",
       "\n",
       "[100 rows x 3 columns]"
      ]
     },
     "execution_count": 5,
     "metadata": {},
     "output_type": "execute_result"
    }
   ],
   "source": [
    "Billboard"
   ]
  },
  {
   "cell_type": "code",
   "execution_count": 6,
   "metadata": {},
   "outputs": [
    {
     "data": {
      "text/plain": [
       "0                                 MOOD\n",
       "1                                  WAP\n",
       "2                  LAUGH NOW CRY LATER\n",
       "3                      BLINDING LIGHTS\n",
       "4     SAVAGE LOVE (LAXED - SIREN BEAT)\n",
       "                    ...               \n",
       "95                            CARAMELO\n",
       "96                              PARDON\n",
       "97                        ONE TOO MANY\n",
       "98                   DOLLAZ ON MY HEAD\n",
       "99                     CHAMPAGNE NIGHT\n",
       "Name: songs, Length: 100, dtype: object"
      ]
     },
     "execution_count": 6,
     "metadata": {},
     "output_type": "execute_result"
    }
   ],
   "source": [
    "Billboard['songs']"
   ]
  },
  {
   "cell_type": "markdown",
   "metadata": {},
   "source": [
    "#### Main function"
   ]
  },
  {
   "cell_type": "code",
   "execution_count": 7,
   "metadata": {},
   "outputs": [],
   "source": [
    "def song_choice(df):\n",
    "    \n",
    "\n",
    "    user_song = str(input('Please enter the name of a song: ')).upper()\n",
    "\n",
    "    if user_song in list(df.songs):\n",
    "        print('\\n*Your song is trending righ now* \\n')\n",
    "        print('Take a look to this other songs:\\n')\n",
    "\n",
    "        song_recommendation = random.choice(list(df.songs))\n",
    "        print(song_recommendation)\n",
    "        print('\\nThis song belongs to:\\n')\n",
    "            \n",
    "        artist = df[df['songs'] == song_recommendation]['artist']\n",
    "        print(str([i.title() for i in artist])[2:-2])\n",
    "            \n",
    "        user_answer(df)\n",
    "              \n",
    "            \n",
    "    else:\n",
    "            \n",
    "        print('\\nThis is not a hot song but we found this song in spotify!')\n",
    "        artist = str(input('Please enter the name of the artist: '))\n",
    "        print('\\nBecause you like this song, you may like as well the following recommendations!!!')\n",
    "        spotify_songs(user_song.lower(),artist.lower())\n",
    "            \n",
    "                 \n"
   ]
  },
  {
   "cell_type": "markdown",
   "metadata": {},
   "source": [
    "#### User answer (Nested function)"
   ]
  },
  {
   "cell_type": "code",
   "execution_count": 8,
   "metadata": {},
   "outputs": [],
   "source": [
    "def user_answer(df):\n",
    "    \n",
    "    while True:\n",
    "        \n",
    "        user_answer = str(input('\\nDid you like the song we just recommended?: ')).upper()\n",
    "    \n",
    "        if user_answer == 'NO':\n",
    "            print('\\nNot a problem, we can suggest something else for you!\\n')\n",
    "\n",
    "            for song in new_list_recommendation(df):\n",
    "                print(song)\n",
    "                \n",
    "            break \n",
    "\n",
    "        elif user_answer == 'YES':\n",
    "            print('\\nCool, enjoy it\\n')\n",
    "            print('We wish you have more options to listen!!\\n')\n",
    "            print('These are our recommendations for you: \\n')\n",
    "            for song in new_list_recommendation(df):\n",
    "                print(song)\n",
    "  \n",
    "            break\n",
    "\n",
    "        else:\n",
    "            print('\\nPlease respond Yes/No!')\n",
    "            "
   ]
  },
  {
   "cell_type": "markdown",
   "metadata": {},
   "source": [
    "#### Testing user_answer()"
   ]
  },
  {
   "cell_type": "code",
   "execution_count": 11,
   "metadata": {},
   "outputs": [
    {
     "name": "stdout",
     "output_type": "stream",
     "text": [
      "\n",
      "Did you like the song we just recommended?: yes\n",
      "\n",
      "Cool, enjoy it\n",
      "\n",
      "We wish you have more options to listen!!\n",
      "\n",
      "These are our recommendations for you: \n",
      "\n",
      "How many songs do you want? 5\n",
      "\n",
      "This is your new list of songs:\n",
      "\n",
      "SOME GIRLS\n",
      "CHAMPAGNE NIGHT\n",
      "DON'T START NOW\n",
      "LOVIN' ON YOU\n",
      "24\n"
     ]
    }
   ],
   "source": [
    "user_answer(Billboard)"
   ]
  },
  {
   "cell_type": "markdown",
   "metadata": {},
   "source": [
    "#### New list recommendation (Nested function)"
   ]
  },
  {
   "cell_type": "code",
   "execution_count": 9,
   "metadata": {},
   "outputs": [],
   "source": [
    "def new_list_recommendation(df):\n",
    "    k = int(input('How many songs do you want? '))\n",
    "    list_of_songs = random.sample(list(df.songs),k)\n",
    "    print('\\nThis is your new list of songs:\\n')\n",
    "    return list_of_songs"
   ]
  },
  {
   "cell_type": "markdown",
   "metadata": {},
   "source": [
    "#### Testing new_list_recommendation()"
   ]
  },
  {
   "cell_type": "code",
   "execution_count": 10,
   "metadata": {},
   "outputs": [
    {
     "name": "stdout",
     "output_type": "stream",
     "text": [
      "How many songs do you want? 5\n",
      "\n",
      "This is your new list of songs:\n",
      "\n"
     ]
    },
    {
     "data": {
      "text/plain": [
       "['HOLY',\n",
       " 'I CALLED MAMA',\n",
       " 'I SHOULD PROBABLY GO TO BED',\n",
       " 'LOVE YOU LIKE I USED TO',\n",
       " 'PRETTY HEART']"
      ]
     },
     "execution_count": 10,
     "metadata": {},
     "output_type": "execute_result"
    }
   ],
   "source": [
    "new_list_recommendation(Billboard)"
   ]
  },
  {
   "cell_type": "markdown",
   "metadata": {},
   "source": [
    "#### Importing our Dataframe with the clusters"
   ]
  },
  {
   "cell_type": "code",
   "execution_count": 12,
   "metadata": {},
   "outputs": [],
   "source": [
    "spotify_final = pd.read_csv('../data/spotifyclustered')"
   ]
  },
  {
   "cell_type": "code",
   "execution_count": 13,
   "metadata": {},
   "outputs": [
    {
     "data": {
      "text/html": [
       "<div>\n",
       "<style scoped>\n",
       "    .dataframe tbody tr th:only-of-type {\n",
       "        vertical-align: middle;\n",
       "    }\n",
       "\n",
       "    .dataframe tbody tr th {\n",
       "        vertical-align: top;\n",
       "    }\n",
       "\n",
       "    .dataframe thead th {\n",
       "        text-align: right;\n",
       "    }\n",
       "</style>\n",
       "<table border=\"1\" class=\"dataframe\">\n",
       "  <thead>\n",
       "    <tr style=\"text-align: right;\">\n",
       "      <th></th>\n",
       "      <th>Unnamed: 0</th>\n",
       "      <th>Unnamed: 0.1</th>\n",
       "      <th>artist</th>\n",
       "      <th>album</th>\n",
       "      <th>track_name</th>\n",
       "      <th>track_id</th>\n",
       "      <th>danceability</th>\n",
       "      <th>energy</th>\n",
       "      <th>key</th>\n",
       "      <th>loudness</th>\n",
       "      <th>mode</th>\n",
       "      <th>speechiness</th>\n",
       "      <th>instrumentalness</th>\n",
       "      <th>liveness</th>\n",
       "      <th>valence</th>\n",
       "      <th>tempo</th>\n",
       "      <th>duration_ms</th>\n",
       "      <th>time_signature</th>\n",
       "      <th>clusters</th>\n",
       "    </tr>\n",
       "  </thead>\n",
       "  <tbody>\n",
       "    <tr>\n",
       "      <th>0</th>\n",
       "      <td>0</td>\n",
       "      <td>0</td>\n",
       "      <td>RAYE</td>\n",
       "      <td>Love Of Your Life</td>\n",
       "      <td>Love Of Your Life</td>\n",
       "      <td>5iqfKcEGKhoeWTNqmZPiu3</td>\n",
       "      <td>0.632</td>\n",
       "      <td>0.826</td>\n",
       "      <td>10</td>\n",
       "      <td>-5.326</td>\n",
       "      <td>0</td>\n",
       "      <td>0.0699</td>\n",
       "      <td>0.000003</td>\n",
       "      <td>0.1460</td>\n",
       "      <td>0.474</td>\n",
       "      <td>111.886</td>\n",
       "      <td>196171</td>\n",
       "      <td>4</td>\n",
       "      <td>1</td>\n",
       "    </tr>\n",
       "    <tr>\n",
       "      <th>1</th>\n",
       "      <td>1</td>\n",
       "      <td>1</td>\n",
       "      <td>Ariana Grande</td>\n",
       "      <td>Positions</td>\n",
       "      <td>pov</td>\n",
       "      <td>3UoULw70kMsiVXxW0L3A33</td>\n",
       "      <td>0.487</td>\n",
       "      <td>0.534</td>\n",
       "      <td>0</td>\n",
       "      <td>-5.664</td>\n",
       "      <td>0</td>\n",
       "      <td>0.0555</td>\n",
       "      <td>0.000000</td>\n",
       "      <td>0.1000</td>\n",
       "      <td>0.173</td>\n",
       "      <td>131.798</td>\n",
       "      <td>201882</td>\n",
       "      <td>4</td>\n",
       "      <td>0</td>\n",
       "    </tr>\n",
       "    <tr>\n",
       "      <th>2</th>\n",
       "      <td>2</td>\n",
       "      <td>2</td>\n",
       "      <td>Dan Talevski</td>\n",
       "      <td>Don't Ever Leave</td>\n",
       "      <td>Don't Ever Leave</td>\n",
       "      <td>6drtmkgMWpehwKX2si4DEl</td>\n",
       "      <td>0.392</td>\n",
       "      <td>0.604</td>\n",
       "      <td>6</td>\n",
       "      <td>-5.965</td>\n",
       "      <td>1</td>\n",
       "      <td>0.0512</td>\n",
       "      <td>0.000004</td>\n",
       "      <td>0.1790</td>\n",
       "      <td>0.499</td>\n",
       "      <td>88.406</td>\n",
       "      <td>148906</td>\n",
       "      <td>4</td>\n",
       "      <td>1</td>\n",
       "    </tr>\n",
       "    <tr>\n",
       "      <th>3</th>\n",
       "      <td>3</td>\n",
       "      <td>3</td>\n",
       "      <td>LANY</td>\n",
       "      <td>mama's boy</td>\n",
       "      <td>nobody else</td>\n",
       "      <td>7GLBqDKAJLCLIsj2GEDkSw</td>\n",
       "      <td>0.569</td>\n",
       "      <td>0.291</td>\n",
       "      <td>0</td>\n",
       "      <td>-14.509</td>\n",
       "      <td>1</td>\n",
       "      <td>0.0430</td>\n",
       "      <td>0.000000</td>\n",
       "      <td>0.1370</td>\n",
       "      <td>0.313</td>\n",
       "      <td>151.659</td>\n",
       "      <td>197480</td>\n",
       "      <td>4</td>\n",
       "      <td>0</td>\n",
       "    </tr>\n",
       "    <tr>\n",
       "      <th>4</th>\n",
       "      <td>4</td>\n",
       "      <td>4</td>\n",
       "      <td>Aloe Blacc</td>\n",
       "      <td>All Love Everything</td>\n",
       "      <td>All Love Everything</td>\n",
       "      <td>7g5bq2JSKV0eNKTFluoQNt</td>\n",
       "      <td>0.726</td>\n",
       "      <td>0.562</td>\n",
       "      <td>4</td>\n",
       "      <td>-8.226</td>\n",
       "      <td>1</td>\n",
       "      <td>0.0817</td>\n",
       "      <td>0.000000</td>\n",
       "      <td>0.0774</td>\n",
       "      <td>0.757</td>\n",
       "      <td>160.157</td>\n",
       "      <td>147947</td>\n",
       "      <td>4</td>\n",
       "      <td>4</td>\n",
       "    </tr>\n",
       "  </tbody>\n",
       "</table>\n",
       "</div>"
      ],
      "text/plain": [
       "   Unnamed: 0  Unnamed: 0.1         artist                album  \\\n",
       "0           0             0           RAYE    Love Of Your Life   \n",
       "1           1             1  Ariana Grande            Positions   \n",
       "2           2             2   Dan Talevski     Don't Ever Leave   \n",
       "3           3             3           LANY           mama's boy   \n",
       "4           4             4     Aloe Blacc  All Love Everything   \n",
       "\n",
       "            track_name                track_id  danceability  energy  key  \\\n",
       "0    Love Of Your Life  5iqfKcEGKhoeWTNqmZPiu3         0.632   0.826   10   \n",
       "1                  pov  3UoULw70kMsiVXxW0L3A33         0.487   0.534    0   \n",
       "2     Don't Ever Leave  6drtmkgMWpehwKX2si4DEl         0.392   0.604    6   \n",
       "3          nobody else  7GLBqDKAJLCLIsj2GEDkSw         0.569   0.291    0   \n",
       "4  All Love Everything  7g5bq2JSKV0eNKTFluoQNt         0.726   0.562    4   \n",
       "\n",
       "   loudness  mode  speechiness  instrumentalness  liveness  valence    tempo  \\\n",
       "0    -5.326     0       0.0699          0.000003    0.1460    0.474  111.886   \n",
       "1    -5.664     0       0.0555          0.000000    0.1000    0.173  131.798   \n",
       "2    -5.965     1       0.0512          0.000004    0.1790    0.499   88.406   \n",
       "3   -14.509     1       0.0430          0.000000    0.1370    0.313  151.659   \n",
       "4    -8.226     1       0.0817          0.000000    0.0774    0.757  160.157   \n",
       "\n",
       "   duration_ms  time_signature  clusters  \n",
       "0       196171               4         1  \n",
       "1       201882               4         0  \n",
       "2       148906               4         1  \n",
       "3       197480               4         0  \n",
       "4       147947               4         4  "
      ]
     },
     "execution_count": 13,
     "metadata": {},
     "output_type": "execute_result"
    }
   ],
   "source": [
    "spotify_final.head()"
   ]
  },
  {
   "cell_type": "code",
   "execution_count": 14,
   "metadata": {},
   "outputs": [],
   "source": [
    "spotify_final = spotify_final.drop(['Unnamed: 0','Unnamed: 0.1'], axis=1)"
   ]
  },
  {
   "cell_type": "code",
   "execution_count": 15,
   "metadata": {},
   "outputs": [
    {
     "data": {
      "text/html": [
       "<div>\n",
       "<style scoped>\n",
       "    .dataframe tbody tr th:only-of-type {\n",
       "        vertical-align: middle;\n",
       "    }\n",
       "\n",
       "    .dataframe tbody tr th {\n",
       "        vertical-align: top;\n",
       "    }\n",
       "\n",
       "    .dataframe thead th {\n",
       "        text-align: right;\n",
       "    }\n",
       "</style>\n",
       "<table border=\"1\" class=\"dataframe\">\n",
       "  <thead>\n",
       "    <tr style=\"text-align: right;\">\n",
       "      <th></th>\n",
       "      <th>artist</th>\n",
       "      <th>album</th>\n",
       "      <th>track_name</th>\n",
       "      <th>track_id</th>\n",
       "      <th>danceability</th>\n",
       "      <th>energy</th>\n",
       "      <th>key</th>\n",
       "      <th>loudness</th>\n",
       "      <th>mode</th>\n",
       "      <th>speechiness</th>\n",
       "      <th>instrumentalness</th>\n",
       "      <th>liveness</th>\n",
       "      <th>valence</th>\n",
       "      <th>tempo</th>\n",
       "      <th>duration_ms</th>\n",
       "      <th>time_signature</th>\n",
       "      <th>clusters</th>\n",
       "    </tr>\n",
       "  </thead>\n",
       "  <tbody>\n",
       "    <tr>\n",
       "      <th>0</th>\n",
       "      <td>RAYE</td>\n",
       "      <td>Love Of Your Life</td>\n",
       "      <td>Love Of Your Life</td>\n",
       "      <td>5iqfKcEGKhoeWTNqmZPiu3</td>\n",
       "      <td>0.632</td>\n",
       "      <td>0.826</td>\n",
       "      <td>10</td>\n",
       "      <td>-5.326</td>\n",
       "      <td>0</td>\n",
       "      <td>0.0699</td>\n",
       "      <td>0.000003</td>\n",
       "      <td>0.1460</td>\n",
       "      <td>0.474</td>\n",
       "      <td>111.886</td>\n",
       "      <td>196171</td>\n",
       "      <td>4</td>\n",
       "      <td>1</td>\n",
       "    </tr>\n",
       "    <tr>\n",
       "      <th>1</th>\n",
       "      <td>Ariana Grande</td>\n",
       "      <td>Positions</td>\n",
       "      <td>pov</td>\n",
       "      <td>3UoULw70kMsiVXxW0L3A33</td>\n",
       "      <td>0.487</td>\n",
       "      <td>0.534</td>\n",
       "      <td>0</td>\n",
       "      <td>-5.664</td>\n",
       "      <td>0</td>\n",
       "      <td>0.0555</td>\n",
       "      <td>0.000000</td>\n",
       "      <td>0.1000</td>\n",
       "      <td>0.173</td>\n",
       "      <td>131.798</td>\n",
       "      <td>201882</td>\n",
       "      <td>4</td>\n",
       "      <td>0</td>\n",
       "    </tr>\n",
       "    <tr>\n",
       "      <th>2</th>\n",
       "      <td>Dan Talevski</td>\n",
       "      <td>Don't Ever Leave</td>\n",
       "      <td>Don't Ever Leave</td>\n",
       "      <td>6drtmkgMWpehwKX2si4DEl</td>\n",
       "      <td>0.392</td>\n",
       "      <td>0.604</td>\n",
       "      <td>6</td>\n",
       "      <td>-5.965</td>\n",
       "      <td>1</td>\n",
       "      <td>0.0512</td>\n",
       "      <td>0.000004</td>\n",
       "      <td>0.1790</td>\n",
       "      <td>0.499</td>\n",
       "      <td>88.406</td>\n",
       "      <td>148906</td>\n",
       "      <td>4</td>\n",
       "      <td>1</td>\n",
       "    </tr>\n",
       "    <tr>\n",
       "      <th>3</th>\n",
       "      <td>LANY</td>\n",
       "      <td>mama's boy</td>\n",
       "      <td>nobody else</td>\n",
       "      <td>7GLBqDKAJLCLIsj2GEDkSw</td>\n",
       "      <td>0.569</td>\n",
       "      <td>0.291</td>\n",
       "      <td>0</td>\n",
       "      <td>-14.509</td>\n",
       "      <td>1</td>\n",
       "      <td>0.0430</td>\n",
       "      <td>0.000000</td>\n",
       "      <td>0.1370</td>\n",
       "      <td>0.313</td>\n",
       "      <td>151.659</td>\n",
       "      <td>197480</td>\n",
       "      <td>4</td>\n",
       "      <td>0</td>\n",
       "    </tr>\n",
       "    <tr>\n",
       "      <th>4</th>\n",
       "      <td>Aloe Blacc</td>\n",
       "      <td>All Love Everything</td>\n",
       "      <td>All Love Everything</td>\n",
       "      <td>7g5bq2JSKV0eNKTFluoQNt</td>\n",
       "      <td>0.726</td>\n",
       "      <td>0.562</td>\n",
       "      <td>4</td>\n",
       "      <td>-8.226</td>\n",
       "      <td>1</td>\n",
       "      <td>0.0817</td>\n",
       "      <td>0.000000</td>\n",
       "      <td>0.0774</td>\n",
       "      <td>0.757</td>\n",
       "      <td>160.157</td>\n",
       "      <td>147947</td>\n",
       "      <td>4</td>\n",
       "      <td>4</td>\n",
       "    </tr>\n",
       "  </tbody>\n",
       "</table>\n",
       "</div>"
      ],
      "text/plain": [
       "          artist                album           track_name  \\\n",
       "0           RAYE    Love Of Your Life    Love Of Your Life   \n",
       "1  Ariana Grande            Positions                  pov   \n",
       "2   Dan Talevski     Don't Ever Leave     Don't Ever Leave   \n",
       "3           LANY           mama's boy          nobody else   \n",
       "4     Aloe Blacc  All Love Everything  All Love Everything   \n",
       "\n",
       "                 track_id  danceability  energy  key  loudness  mode  \\\n",
       "0  5iqfKcEGKhoeWTNqmZPiu3         0.632   0.826   10    -5.326     0   \n",
       "1  3UoULw70kMsiVXxW0L3A33         0.487   0.534    0    -5.664     0   \n",
       "2  6drtmkgMWpehwKX2si4DEl         0.392   0.604    6    -5.965     1   \n",
       "3  7GLBqDKAJLCLIsj2GEDkSw         0.569   0.291    0   -14.509     1   \n",
       "4  7g5bq2JSKV0eNKTFluoQNt         0.726   0.562    4    -8.226     1   \n",
       "\n",
       "   speechiness  instrumentalness  liveness  valence    tempo  duration_ms  \\\n",
       "0       0.0699          0.000003    0.1460    0.474  111.886       196171   \n",
       "1       0.0555          0.000000    0.1000    0.173  131.798       201882   \n",
       "2       0.0512          0.000004    0.1790    0.499   88.406       148906   \n",
       "3       0.0430          0.000000    0.1370    0.313  151.659       197480   \n",
       "4       0.0817          0.000000    0.0774    0.757  160.157       147947   \n",
       "\n",
       "   time_signature  clusters  \n",
       "0               4         1  \n",
       "1               4         0  \n",
       "2               4         1  \n",
       "3               4         0  \n",
       "4               4         4  "
      ]
     },
     "execution_count": 15,
     "metadata": {},
     "output_type": "execute_result"
    }
   ],
   "source": [
    "spotify_final.head()"
   ]
  },
  {
   "cell_type": "markdown",
   "metadata": {},
   "source": [
    "#### Loading kmeans and scaler"
   ]
  },
  {
   "cell_type": "code",
   "execution_count": 16,
   "metadata": {},
   "outputs": [],
   "source": [
    "kmeans = pickle.load(open(\"kmeans\", \"rb\"))\n",
    "scaler = pickle.load(open(\"scaler\", \"rb\"))"
   ]
  },
  {
   "cell_type": "markdown",
   "metadata": {},
   "source": [
    "#### spotify_songs (Nested functions)"
   ]
  },
  {
   "cell_type": "code",
   "execution_count": 17,
   "metadata": {},
   "outputs": [],
   "source": [
    "def spotify_songs(user_song,artist):\n",
    "    \n",
    "    import spotipy \n",
    "    from spotipy.oauth2 import SpotifyClientCredentials\n",
    "    spotify = spotipy.Spotify(client_credentials_manager=SpotifyClientCredentials(\n",
    "        client_id='336f28498ae24f02b7a02f5b5d8e9754',\n",
    "        client_secret='a0934a41880a46b9a343c1d49529b1bc'))\n",
    "    \n",
    "    # Store search in variable results\n",
    "    results = spotify.search(q=\"track:\"+user_song+\" artist:\"+artist,limit=10)\n",
    "    \n",
    "    # Get audio features and convert to dataframe\n",
    "    song_features = pd.DataFrame(spotify.audio_features(results['tracks']['items'][0]['uri']))\n",
    "    \n",
    "    # Select features based on my clusters\n",
    "    final_features = song_features[['danceability','energy','loudness','speechiness','instrumentalness','liveness','valence']]\n",
    "    \n",
    "    # Find cluster\n",
    "    cluster = kmeans.predict(scaler.transform(final_features))\n",
    "    \n",
    "    # List of songs with that cluster\n",
    "    match_song = spotify_final[spotify_final['clusters'] == int(cluster)]['track_name']\n",
    "    \n",
    "    k = int(input('How many songs do you want? '))\n",
    "    print('\\nThere you have a list of songs!\\n')\n",
    "    list_of_songs = random.sample(list(match_song),k)\n",
    "    for song in list_of_songs:\n",
    "        print(song)\n",
    "    "
   ]
  },
  {
   "cell_type": "markdown",
   "metadata": {},
   "source": [
    "#### Testing spotify_songs"
   ]
  },
  {
   "cell_type": "code",
   "execution_count": 18,
   "metadata": {},
   "outputs": [
    {
     "name": "stdout",
     "output_type": "stream",
     "text": [
      "How many songs do you want? 5\n",
      "\n",
      "There you have a list of songs!\n",
      "\n",
      "Don't Sweat The Technique\n",
      "All Star\n",
      "High Hopes\n",
      "Genie in a Bottle\n",
      "Somebody To You\n"
     ]
    }
   ],
   "source": [
    "spotify_songs('despacito','luis fonsi')"
   ]
  },
  {
   "cell_type": "markdown",
   "metadata": {},
   "source": [
    "### <font color=red>TESTING MAIN FUNCTION</font>"
   ]
  },
  {
   "cell_type": "code",
   "execution_count": 24,
   "metadata": {},
   "outputs": [
    {
     "name": "stdout",
     "output_type": "stream",
     "text": [
      "Please enter the name of a song: despacito\n",
      "\n",
      "This is not a hot song but we found this song in spotify!\n",
      "Please enter the name of the artist: l\n",
      "\n",
      "Because you like this song, you may like as well the following recommendations!!!\n",
      "How many songs do you want? 5\n",
      "\n",
      "There you have a list of songs!\n",
      "\n",
      "Por la noche\n",
      "Stronger (What Doesn't Kill You)\n",
      "Supalonely\n",
      "Whenever, Wherever\n",
      "Picture Of You\n"
     ]
    }
   ],
   "source": [
    "song_choice(Billboard)"
   ]
  },
  {
   "cell_type": "code",
   "execution_count": null,
   "metadata": {},
   "outputs": [],
   "source": []
  }
 ],
 "metadata": {
  "kernelspec": {
   "display_name": "Python 3",
   "language": "python",
   "name": "python3"
  },
  "language_info": {
   "codemirror_mode": {
    "name": "ipython",
    "version": 3
   },
   "file_extension": ".py",
   "mimetype": "text/x-python",
   "name": "python",
   "nbconvert_exporter": "python",
   "pygments_lexer": "ipython3",
   "version": "3.7.6"
  }
 },
 "nbformat": 4,
 "nbformat_minor": 4
}
